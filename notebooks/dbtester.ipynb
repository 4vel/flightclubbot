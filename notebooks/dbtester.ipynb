{
 "cells": [
  {
   "cell_type": "code",
   "execution_count": 2,
   "outputs": [],
   "source": [
    "from sqlalchemy import Column, Integer, VARCHAR, TIMESTAMP, NUMERIC\n",
    "from sqlalchemy import create_engine\n",
    "from sqlalchemy.ext.declarative import declarative_base\n",
    "from sqlalchemy.orm import sessionmaker\n",
    "import logging\n",
    "import datetime\n",
    "from config import conn_string\n",
    "import os\n",
    "from db.models import TableUsers, TableUserAirports, TableAirportCodes, DataAccessLayer\n",
    "import pandas as pd\n",
    "# from dotenv import load_dotenv\n",
    "#\n",
    "# load_dotenv()\n",
    "#\n",
    "# DATABASE_USER = str(os.getenv(\"DBUSER\"))\n",
    "# DATABASE_PASS = str(os.getenv(\"DBPASSWORD\"))\n",
    "# DATABASE_NAME = str(os.getenv(\"DBNAME\"))\n",
    "# DATABASE_PORT = str(os.getenv(\"DBPORT\"))\n",
    "# DATABASE_HOST = str(os.getenv(\"DBHOST\"))\n",
    "#\n",
    "# conn_string = f'postgresql://'\n",
    "# conn_string += f'{DATABASE_USER}:{DATABASE_PASS}'\n",
    "# conn_string += f'@{DATABASE_HOST}:{DATABASE_PORT}/{DATABASE_NAME}'\n"
   ],
   "metadata": {
    "collapsed": false,
    "pycharm": {
     "name": "#%%\n"
    }
   }
  },
  {
   "cell_type": "code",
   "execution_count": 7,
   "outputs": [],
   "source": [
    "fligts_pth= os.path.join('..','FlightDeals.xlsx')\n",
    "flightsdf = pd.read_excel(fligts_pth, engine='openpyxl')"
   ],
   "metadata": {
    "collapsed": false,
    "pycharm": {
     "name": "#%%\n"
    }
   }
  },
  {
   "cell_type": "code",
   "execution_count": 7,
   "outputs": [],
   "source": [],
   "metadata": {
    "collapsed": false,
    "pycharm": {
     "name": "#%%\n"
    }
   }
  },
  {
   "cell_type": "code",
   "execution_count": 8,
   "outputs": [],
   "source": [
    "airportsdf_pth = os.path.join('..','world-airport-codes.xlsx')\n",
    "airportsdf = pd.read_excel(airportsdf_pth,engine='openpyxl')"
   ],
   "metadata": {
    "collapsed": false,
    "pycharm": {
     "name": "#%%\n"
    }
   }
  },
  {
   "cell_type": "code",
   "execution_count": 15,
   "outputs": [
    {
     "data": {
      "text/plain": "                      AirportName           Country IATA   Latitude  \\\n0                    Anaa Airport  French Polynesia  AAA -17.352600   \n1                Arrabury Airport         Australia  AAB -26.700001   \n2  El Arish International Airport   El Arish, Egypt  AAC  31.073299   \n3               Ad-Dabbah Airport  Ad-Dabbah, Sudan  AAD  17.592778   \n4                  Annaba Airport  Annabah, Algeria  AAE  36.822201   \n\n    Longitude  \n0 -145.509995  \n1  141.050003  \n2   33.835800  \n3   33.959167  \n4    7.809170  ",
      "text/html": "<div>\n<style scoped>\n    .dataframe tbody tr th:only-of-type {\n        vertical-align: middle;\n    }\n\n    .dataframe tbody tr th {\n        vertical-align: top;\n    }\n\n    .dataframe thead th {\n        text-align: right;\n    }\n</style>\n<table border=\"1\" class=\"dataframe\">\n  <thead>\n    <tr style=\"text-align: right;\">\n      <th></th>\n      <th>AirportName</th>\n      <th>Country</th>\n      <th>IATA</th>\n      <th>Latitude</th>\n      <th>Longitude</th>\n    </tr>\n  </thead>\n  <tbody>\n    <tr>\n      <th>0</th>\n      <td>Anaa Airport</td>\n      <td>French Polynesia</td>\n      <td>AAA</td>\n      <td>-17.352600</td>\n      <td>-145.509995</td>\n    </tr>\n    <tr>\n      <th>1</th>\n      <td>Arrabury Airport</td>\n      <td>Australia</td>\n      <td>AAB</td>\n      <td>-26.700001</td>\n      <td>141.050003</td>\n    </tr>\n    <tr>\n      <th>2</th>\n      <td>El Arish International Airport</td>\n      <td>El Arish, Egypt</td>\n      <td>AAC</td>\n      <td>31.073299</td>\n      <td>33.835800</td>\n    </tr>\n    <tr>\n      <th>3</th>\n      <td>Ad-Dabbah Airport</td>\n      <td>Ad-Dabbah, Sudan</td>\n      <td>AAD</td>\n      <td>17.592778</td>\n      <td>33.959167</td>\n    </tr>\n    <tr>\n      <th>4</th>\n      <td>Annaba Airport</td>\n      <td>Annabah, Algeria</td>\n      <td>AAE</td>\n      <td>36.822201</td>\n      <td>7.809170</td>\n    </tr>\n  </tbody>\n</table>\n</div>"
     },
     "execution_count": 15,
     "metadata": {},
     "output_type": "execute_result"
    }
   ],
   "source": [
    "airportsdf.head()"
   ],
   "metadata": {
    "collapsed": false,
    "pycharm": {
     "name": "#%%\n"
    }
   }
  },
  {
   "cell_type": "code",
   "execution_count": 10,
   "outputs": [],
   "source": [
    "me = TableUsers('224483345', \"Alex\")\n"
   ],
   "metadata": {
    "collapsed": false,
    "pycharm": {
     "name": "#%%\n"
    }
   }
  },
  {
   "cell_type": "code",
   "execution_count": 11,
   "outputs": [],
   "source": [
    "dal = DataAccessLayer(conn_string)"
   ],
   "metadata": {
    "collapsed": false,
    "pycharm": {
     "name": "#%%\n"
    }
   }
  },
  {
   "cell_type": "code",
   "execution_count": 12,
   "outputs": [],
   "source": [
    "session = dal.get_session()"
   ],
   "metadata": {
    "collapsed": false,
    "pycharm": {
     "name": "#%%\n"
    }
   }
  },
  {
   "cell_type": "code",
   "execution_count": 13,
   "outputs": [],
   "source": [
    "session.add(me)\n",
    "session.commit()"
   ],
   "metadata": {
    "collapsed": false,
    "pycharm": {
     "name": "#%%\n"
    }
   }
  },
  {
   "cell_type": "code",
   "execution_count": 22,
   "outputs": [],
   "source": [
    "airportslist = []\n",
    "for row in airportsdf.iterrows():\n",
    "    ap= TableAirportCodes(row[1][0], row[1][2], row[1][1])\n",
    "    airportslist.append(ap)"
   ],
   "metadata": {
    "collapsed": false,
    "pycharm": {
     "name": "#%%\n"
    }
   }
  },
  {
   "cell_type": "code",
   "execution_count": 24,
   "outputs": [],
   "source": [
    "session.bulk_save_objects(airportslist)\n",
    "session.commit()"
   ],
   "metadata": {
    "collapsed": false,
    "pycharm": {
     "name": "#%%\n"
    }
   }
  },
  {
   "cell_type": "code",
   "execution_count": null,
   "outputs": [],
   "source": [],
   "metadata": {
    "collapsed": false,
    "pycharm": {
     "name": "#%%\n"
    }
   }
  }
 ],
 "metadata": {
  "kernelspec": {
   "display_name": "Python 3",
   "language": "python",
   "name": "python3"
  },
  "language_info": {
   "codemirror_mode": {
    "name": "ipython",
    "version": 2
   },
   "file_extension": ".py",
   "mimetype": "text/x-python",
   "name": "python",
   "nbconvert_exporter": "python",
   "pygments_lexer": "ipython2",
   "version": "2.7.6"
  }
 },
 "nbformat": 4,
 "nbformat_minor": 0
}