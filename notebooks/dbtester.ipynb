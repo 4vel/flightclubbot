{
 "cells": [
  {
   "cell_type": "code",
   "execution_count": 1,
   "outputs": [],
   "source": [
    "from sqlalchemy import Column, Integer, VARCHAR, TIMESTAMP, NUMERIC\n",
    "from sqlalchemy import create_engine\n",
    "from sqlalchemy.ext.declarative import declarative_base\n",
    "from sqlalchemy.orm import sessionmaker\n",
    "import logging\n",
    "import datetime\n",
    "from config import conn_string\n",
    "import os\n",
    "from db.models import TableUsers, TableUserAirports, TableAirportCodes, DataAccessLayer\n",
    "import pandas as pd\n",
    "# from dotenv import load_dotenv\n",
    "#\n",
    "# load_dotenv()\n",
    "#\n",
    "# DATABASE_USER = str(os.getenv(\"DBUSER\"))\n",
    "# DATABASE_PASS = str(os.getenv(\"DBPASSWORD\"))\n",
    "# DATABASE_NAME = str(os.getenv(\"DBNAME\"))\n",
    "# DATABASE_PORT = str(os.getenv(\"DBPORT\"))\n",
    "# DATABASE_HOST = str(os.getenv(\"DBHOST\"))\n",
    "#\n",
    "# conn_string = f'postgresql://'\n",
    "# conn_string += f'{DATABASE_USER}:{DATABASE_PASS}'\n",
    "# conn_string += f'@{DATABASE_HOST}:{DATABASE_PORT}/{DATABASE_NAME}'\n"
   ],
   "metadata": {
    "collapsed": false,
    "pycharm": {
     "name": "#%%\n"
    }
   }
  },
  {
   "cell_type": "code",
   "execution_count": 2,
   "outputs": [],
   "source": [
    "fligts_pth= os.path.join('..','FlightDeals.xlsx')\n",
    "flightsdf = pd.read_excel(fligts_pth, engine='openpyxl')"
   ],
   "metadata": {
    "collapsed": false,
    "pycharm": {
     "name": "#%%\n"
    }
   }
  },
  {
   "cell_type": "code",
   "execution_count": 2,
   "outputs": [],
   "source": [],
   "metadata": {
    "collapsed": false,
    "pycharm": {
     "name": "#%%\n"
    }
   }
  },
  {
   "cell_type": "code",
   "execution_count": null,
   "outputs": [],
   "source": [
    "airportsdf_pth = os.path.join('..','world-airport-codes.xlsx')\n",
    "airportsdf = pd.read_excel(airportsdf_pth,engine='openpyxl')"
   ],
   "metadata": {
    "collapsed": false,
    "pycharm": {
     "name": "#%%\n"
    }
   }
  },
  {
   "cell_type": "code",
   "execution_count": null,
   "outputs": [],
   "source": [
    "airportsdf.head()"
   ],
   "metadata": {
    "collapsed": false,
    "pycharm": {
     "name": "#%%\n"
    }
   }
  },
  {
   "cell_type": "code",
   "execution_count": 5,
   "outputs": [],
   "source": [
    "# me = TableUsers('224483345', \"Alex\")\n"
   ],
   "metadata": {
    "collapsed": false,
    "pycharm": {
     "name": "#%%\n"
    }
   }
  },
  {
   "cell_type": "code",
   "execution_count": 6,
   "outputs": [],
   "source": [
    "dal = DataAccessLayer(conn_string)"
   ],
   "metadata": {
    "collapsed": false,
    "pycharm": {
     "name": "#%%\n"
    }
   }
  },
  {
   "cell_type": "code",
   "execution_count": 7,
   "outputs": [],
   "source": [
    "session = dal.get_session()"
   ],
   "metadata": {
    "collapsed": false,
    "pycharm": {
     "name": "#%%\n"
    }
   }
  },
  {
   "cell_type": "code",
   "execution_count": 8,
   "outputs": [],
   "source": [
    "session.add(me)\n",
    "session.commit()"
   ],
   "metadata": {
    "collapsed": false,
    "pycharm": {
     "name": "#%%\n"
    }
   }
  },
  {
   "cell_type": "code",
   "execution_count": 9,
   "outputs": [],
   "source": [
    "airportslist = []\n",
    "for row in airportsdf.iterrows():\n",
    "    ap= TableAirportCodes(row[1][0], row[1][2], row[1][1])\n",
    "    airportslist.append(ap)"
   ],
   "metadata": {
    "collapsed": false,
    "pycharm": {
     "name": "#%%\n"
    }
   }
  },
  {
   "cell_type": "code",
   "execution_count": 10,
   "outputs": [
    {
     "ename": "OperationalError",
     "evalue": "(psycopg2.OperationalError) server closed the connection unexpectedly\n\tThis probably means the server terminated abnormally\n\tbefore or while processing the request.\n\n[SQL: INSERT INTO airports (created_at, updated_at, airport_name, airport_code, city_country) VALUES (%(created_at)s, %(updated_at)s, %(airport_name)s, %(airport_code)s, %(city_country)s)]\n[parameters: ({'created_at': datetime.datetime(2021, 1, 12, 21, 10, 20, 212727), 'updated_at': datetime.datetime(2021, 1, 12, 21, 10, 20, 212842), 'airport_name': 'Anaa Airport', 'airport_code': 'AAA', 'city_country': 'French Polynesia'}, {'created_at': datetime.datetime(2021, 1, 12, 21, 10, 20, 212727), 'updated_at': datetime.datetime(2021, 1, 12, 21, 10, 20, 212842), 'airport_name': 'Arrabury Airport', 'airport_code': 'AAB', 'city_country': 'Australia'}, {'created_at': datetime.datetime(2021, 1, 12, 21, 10, 20, 212727), 'updated_at': datetime.datetime(2021, 1, 12, 21, 10, 20, 212842), 'airport_name': 'El Arish International Airport', 'airport_code': 'AAC', 'city_country': 'El Arish, Egypt'}, {'created_at': datetime.datetime(2021, 1, 12, 21, 10, 20, 212727), 'updated_at': datetime.datetime(2021, 1, 12, 21, 10, 20, 212842), 'airport_name': 'Ad-Dabbah Airport', 'airport_code': 'AAD', 'city_country': 'Ad-Dabbah, Sudan'}, {'created_at': datetime.datetime(2021, 1, 12, 21, 10, 20, 212727), 'updated_at': datetime.datetime(2021, 1, 12, 21, 10, 20, 212842), 'airport_name': 'Annaba Airport', 'airport_code': 'AAE', 'city_country': 'Annabah, Algeria'}, {'created_at': datetime.datetime(2021, 1, 12, 21, 10, 20, 212727), 'updated_at': datetime.datetime(2021, 1, 12, 21, 10, 20, 212842), 'airport_name': 'Apalachicola Regional Airport', 'airport_code': 'AAF', 'city_country': 'Apalachicola, United States'}, {'created_at': datetime.datetime(2021, 1, 12, 21, 10, 20, 212727), 'updated_at': datetime.datetime(2021, 1, 12, 21, 10, 20, 212842), 'airport_name': 'Arapoti Airport', 'airport_code': 'AAG', 'city_country': 'Arapoti, Brazil'}, {'created_at': datetime.datetime(2021, 1, 12, 21, 10, 20, 212727), 'updated_at': datetime.datetime(2021, 1, 12, 21, 10, 20, 212842), 'airport_name': 'Aachen-Merzbrück Airport', 'airport_code': 'AAH', 'city_country': 'Aachen, Germany'}  ... displaying 10 of 9465 total bound parameter sets ...  {'created_at': datetime.datetime(2021, 1, 12, 21, 10, 20, 212727), 'updated_at': datetime.datetime(2021, 1, 12, 21, 10, 20, 212842), 'airport_name': 'Mzuzu Airport', 'airport_code': 'ZZU', 'city_country': 'Mzuzu, Malawi'}, {'created_at': datetime.datetime(2021, 1, 12, 21, 10, 20, 212727), 'updated_at': datetime.datetime(2021, 1, 12, 21, 10, 20, 212842), 'airport_name': 'Zanesville Municipal Airport', 'airport_code': 'ZZV', 'city_country': 'Zanesville, United States'})]\n(Background on this error at: http://sqlalche.me/e/13/e3q8)",
     "output_type": "error",
     "traceback": [
      "\u001B[0;31m---------------------------------------------------------------------------\u001B[0m",
      "\u001B[0;31mOperationalError\u001B[0m                          Traceback (most recent call last)",
      "\u001B[0;32m~/PycharmProjects/telegram/flight_bot/venv/lib/python3.9/site-packages/sqlalchemy/engine/base.py\u001B[0m in \u001B[0;36m_execute_context\u001B[0;34m(self, dialect, constructor, statement, parameters, *args)\u001B[0m\n\u001B[1;32m   1255\u001B[0m                 \u001B[0;32mif\u001B[0m \u001B[0;32mnot\u001B[0m \u001B[0mevt_handled\u001B[0m\u001B[0;34m:\u001B[0m\u001B[0;34m\u001B[0m\u001B[0;34m\u001B[0m\u001B[0m\n\u001B[0;32m-> 1256\u001B[0;31m                     self.dialect.do_executemany(\n\u001B[0m\u001B[1;32m   1257\u001B[0m                         \u001B[0mcursor\u001B[0m\u001B[0;34m,\u001B[0m \u001B[0mstatement\u001B[0m\u001B[0;34m,\u001B[0m \u001B[0mparameters\u001B[0m\u001B[0;34m,\u001B[0m \u001B[0mcontext\u001B[0m\u001B[0;34m\u001B[0m\u001B[0;34m\u001B[0m\u001B[0m\n",
      "\u001B[0;32m~/PycharmProjects/telegram/flight_bot/venv/lib/python3.9/site-packages/sqlalchemy/dialects/postgresql/psycopg2.py\u001B[0m in \u001B[0;36mdo_executemany\u001B[0;34m(self, cursor, statement, parameters, context)\u001B[0m\n\u001B[1;32m    897\u001B[0m         \u001B[0;32mif\u001B[0m \u001B[0mself\u001B[0m\u001B[0;34m.\u001B[0m\u001B[0mexecutemany_mode\u001B[0m \u001B[0;32mis\u001B[0m \u001B[0mEXECUTEMANY_DEFAULT\u001B[0m\u001B[0;34m:\u001B[0m\u001B[0;34m\u001B[0m\u001B[0;34m\u001B[0m\u001B[0m\n\u001B[0;32m--> 898\u001B[0;31m             \u001B[0mcursor\u001B[0m\u001B[0;34m.\u001B[0m\u001B[0mexecutemany\u001B[0m\u001B[0;34m(\u001B[0m\u001B[0mstatement\u001B[0m\u001B[0;34m,\u001B[0m \u001B[0mparameters\u001B[0m\u001B[0;34m)\u001B[0m\u001B[0;34m\u001B[0m\u001B[0;34m\u001B[0m\u001B[0m\n\u001B[0m\u001B[1;32m    899\u001B[0m             \u001B[0;32mreturn\u001B[0m\u001B[0;34m\u001B[0m\u001B[0;34m\u001B[0m\u001B[0m\n",
      "\u001B[0;31mOperationalError\u001B[0m: server closed the connection unexpectedly\n\tThis probably means the server terminated abnormally\n\tbefore or while processing the request.\n",
      "\nThe above exception was the direct cause of the following exception:\n",
      "\u001B[0;31mOperationalError\u001B[0m                          Traceback (most recent call last)",
      "\u001B[0;32m<ipython-input-10-5ba42b66641f>\u001B[0m in \u001B[0;36m<module>\u001B[0;34m\u001B[0m\n\u001B[0;32m----> 1\u001B[0;31m \u001B[0msession\u001B[0m\u001B[0;34m.\u001B[0m\u001B[0mbulk_save_objects\u001B[0m\u001B[0;34m(\u001B[0m\u001B[0mairportslist\u001B[0m\u001B[0;34m)\u001B[0m\u001B[0;34m\u001B[0m\u001B[0;34m\u001B[0m\u001B[0m\n\u001B[0m\u001B[1;32m      2\u001B[0m \u001B[0msession\u001B[0m\u001B[0;34m.\u001B[0m\u001B[0mcommit\u001B[0m\u001B[0;34m(\u001B[0m\u001B[0;34m)\u001B[0m\u001B[0;34m\u001B[0m\u001B[0;34m\u001B[0m\u001B[0m\n\u001B[1;32m      3\u001B[0m \u001B[0;34m\u001B[0m\u001B[0m\n",
      "\u001B[0;32m~/PycharmProjects/telegram/flight_bot/venv/lib/python3.9/site-packages/sqlalchemy/orm/session.py\u001B[0m in \u001B[0;36mbulk_save_objects\u001B[0;34m(self, objects, return_defaults, update_changed_only, preserve_order)\u001B[0m\n\u001B[1;32m   2777\u001B[0m \u001B[0;34m\u001B[0m\u001B[0m\n\u001B[1;32m   2778\u001B[0m         \u001B[0;32mfor\u001B[0m \u001B[0;34m(\u001B[0m\u001B[0mmapper\u001B[0m\u001B[0;34m,\u001B[0m \u001B[0misupdate\u001B[0m\u001B[0;34m)\u001B[0m\u001B[0;34m,\u001B[0m \u001B[0mstates\u001B[0m \u001B[0;32min\u001B[0m \u001B[0mitertools\u001B[0m\u001B[0;34m.\u001B[0m\u001B[0mgroupby\u001B[0m\u001B[0;34m(\u001B[0m\u001B[0mobj_states\u001B[0m\u001B[0;34m,\u001B[0m \u001B[0mkey\u001B[0m\u001B[0;34m)\u001B[0m\u001B[0;34m:\u001B[0m\u001B[0;34m\u001B[0m\u001B[0;34m\u001B[0m\u001B[0m\n\u001B[0;32m-> 2779\u001B[0;31m             self._bulk_save_mappings(\n\u001B[0m\u001B[1;32m   2780\u001B[0m                 \u001B[0mmapper\u001B[0m\u001B[0;34m,\u001B[0m\u001B[0;34m\u001B[0m\u001B[0;34m\u001B[0m\u001B[0m\n\u001B[1;32m   2781\u001B[0m                 \u001B[0mstates\u001B[0m\u001B[0;34m,\u001B[0m\u001B[0;34m\u001B[0m\u001B[0;34m\u001B[0m\u001B[0m\n",
      "\u001B[0;32m~/PycharmProjects/telegram/flight_bot/venv/lib/python3.9/site-packages/sqlalchemy/orm/session.py\u001B[0m in \u001B[0;36m_bulk_save_mappings\u001B[0;34m(self, mapper, mappings, isupdate, isstates, return_defaults, update_changed_only, render_nulls)\u001B[0m\n\u001B[1;32m   2977\u001B[0m         \u001B[0;32mexcept\u001B[0m\u001B[0;34m:\u001B[0m\u001B[0;34m\u001B[0m\u001B[0;34m\u001B[0m\u001B[0m\n\u001B[1;32m   2978\u001B[0m             \u001B[0;32mwith\u001B[0m \u001B[0mutil\u001B[0m\u001B[0;34m.\u001B[0m\u001B[0msafe_reraise\u001B[0m\u001B[0;34m(\u001B[0m\u001B[0;34m)\u001B[0m\u001B[0;34m:\u001B[0m\u001B[0;34m\u001B[0m\u001B[0;34m\u001B[0m\u001B[0m\n\u001B[0;32m-> 2979\u001B[0;31m                 \u001B[0mtransaction\u001B[0m\u001B[0;34m.\u001B[0m\u001B[0mrollback\u001B[0m\u001B[0;34m(\u001B[0m\u001B[0m_capture_exception\u001B[0m\u001B[0;34m=\u001B[0m\u001B[0;32mTrue\u001B[0m\u001B[0;34m)\u001B[0m\u001B[0;34m\u001B[0m\u001B[0;34m\u001B[0m\u001B[0m\n\u001B[0m\u001B[1;32m   2980\u001B[0m         \u001B[0;32mfinally\u001B[0m\u001B[0;34m:\u001B[0m\u001B[0;34m\u001B[0m\u001B[0;34m\u001B[0m\u001B[0m\n\u001B[1;32m   2981\u001B[0m             \u001B[0mself\u001B[0m\u001B[0;34m.\u001B[0m\u001B[0m_flushing\u001B[0m \u001B[0;34m=\u001B[0m \u001B[0;32mFalse\u001B[0m\u001B[0;34m\u001B[0m\u001B[0;34m\u001B[0m\u001B[0m\n",
      "\u001B[0;32m~/PycharmProjects/telegram/flight_bot/venv/lib/python3.9/site-packages/sqlalchemy/util/langhelpers.py\u001B[0m in \u001B[0;36m__exit__\u001B[0;34m(self, type_, value, traceback)\u001B[0m\n\u001B[1;32m     66\u001B[0m             \u001B[0mself\u001B[0m\u001B[0;34m.\u001B[0m\u001B[0m_exc_info\u001B[0m \u001B[0;34m=\u001B[0m \u001B[0;32mNone\u001B[0m  \u001B[0;31m# remove potential circular references\u001B[0m\u001B[0;34m\u001B[0m\u001B[0;34m\u001B[0m\u001B[0m\n\u001B[1;32m     67\u001B[0m             \u001B[0;32mif\u001B[0m \u001B[0;32mnot\u001B[0m \u001B[0mself\u001B[0m\u001B[0;34m.\u001B[0m\u001B[0mwarn_only\u001B[0m\u001B[0;34m:\u001B[0m\u001B[0;34m\u001B[0m\u001B[0;34m\u001B[0m\u001B[0m\n\u001B[0;32m---> 68\u001B[0;31m                 compat.raise_(\n\u001B[0m\u001B[1;32m     69\u001B[0m                     \u001B[0mexc_value\u001B[0m\u001B[0;34m,\u001B[0m\u001B[0;34m\u001B[0m\u001B[0;34m\u001B[0m\u001B[0m\n\u001B[1;32m     70\u001B[0m                     \u001B[0mwith_traceback\u001B[0m\u001B[0;34m=\u001B[0m\u001B[0mexc_tb\u001B[0m\u001B[0;34m,\u001B[0m\u001B[0;34m\u001B[0m\u001B[0;34m\u001B[0m\u001B[0m\n",
      "\u001B[0;32m~/PycharmProjects/telegram/flight_bot/venv/lib/python3.9/site-packages/sqlalchemy/util/compat.py\u001B[0m in \u001B[0;36mraise_\u001B[0;34m(***failed resolving arguments***)\u001B[0m\n\u001B[1;32m    180\u001B[0m \u001B[0;34m\u001B[0m\u001B[0m\n\u001B[1;32m    181\u001B[0m         \u001B[0;32mtry\u001B[0m\u001B[0;34m:\u001B[0m\u001B[0;34m\u001B[0m\u001B[0;34m\u001B[0m\u001B[0m\n\u001B[0;32m--> 182\u001B[0;31m             \u001B[0;32mraise\u001B[0m \u001B[0mexception\u001B[0m\u001B[0;34m\u001B[0m\u001B[0;34m\u001B[0m\u001B[0m\n\u001B[0m\u001B[1;32m    183\u001B[0m         \u001B[0;32mfinally\u001B[0m\u001B[0;34m:\u001B[0m\u001B[0;34m\u001B[0m\u001B[0;34m\u001B[0m\u001B[0m\n\u001B[1;32m    184\u001B[0m             \u001B[0;31m# credit to\u001B[0m\u001B[0;34m\u001B[0m\u001B[0;34m\u001B[0m\u001B[0;34m\u001B[0m\u001B[0m\n",
      "\u001B[0;32m~/PycharmProjects/telegram/flight_bot/venv/lib/python3.9/site-packages/sqlalchemy/orm/session.py\u001B[0m in \u001B[0;36m_bulk_save_mappings\u001B[0;34m(self, mapper, mappings, isupdate, isstates, return_defaults, update_changed_only, render_nulls)\u001B[0m\n\u001B[1;32m   2965\u001B[0m                 )\n\u001B[1;32m   2966\u001B[0m             \u001B[0;32melse\u001B[0m\u001B[0;34m:\u001B[0m\u001B[0;34m\u001B[0m\u001B[0;34m\u001B[0m\u001B[0m\n\u001B[0;32m-> 2967\u001B[0;31m                 persistence._bulk_insert(\n\u001B[0m\u001B[1;32m   2968\u001B[0m                     \u001B[0mmapper\u001B[0m\u001B[0;34m,\u001B[0m\u001B[0;34m\u001B[0m\u001B[0;34m\u001B[0m\u001B[0m\n\u001B[1;32m   2969\u001B[0m                     \u001B[0mmappings\u001B[0m\u001B[0;34m,\u001B[0m\u001B[0;34m\u001B[0m\u001B[0;34m\u001B[0m\u001B[0m\n",
      "\u001B[0;32m~/PycharmProjects/telegram/flight_bot/venv/lib/python3.9/site-packages/sqlalchemy/orm/persistence.py\u001B[0m in \u001B[0;36m_bulk_insert\u001B[0;34m(mapper, mappings, session_transaction, isstates, return_defaults, render_nulls)\u001B[0m\n\u001B[1;32m     93\u001B[0m             )\n\u001B[1;32m     94\u001B[0m         )\n\u001B[0;32m---> 95\u001B[0;31m         _emit_insert_statements(\n\u001B[0m\u001B[1;32m     96\u001B[0m             \u001B[0mbase_mapper\u001B[0m\u001B[0;34m,\u001B[0m\u001B[0;34m\u001B[0m\u001B[0;34m\u001B[0m\u001B[0m\n\u001B[1;32m     97\u001B[0m             \u001B[0;32mNone\u001B[0m\u001B[0;34m,\u001B[0m\u001B[0;34m\u001B[0m\u001B[0;34m\u001B[0m\u001B[0m\n",
      "\u001B[0;32m~/PycharmProjects/telegram/flight_bot/venv/lib/python3.9/site-packages/sqlalchemy/orm/persistence.py\u001B[0m in \u001B[0;36m_emit_insert_statements\u001B[0;34m(base_mapper, uowtransaction, cached_connections, mapper, table, insert, bookkeeping)\u001B[0m\n\u001B[1;32m   1081\u001B[0m             \u001B[0mmultiparams\u001B[0m \u001B[0;34m=\u001B[0m \u001B[0;34m[\u001B[0m\u001B[0mrec\u001B[0m\u001B[0;34m[\u001B[0m\u001B[0;36m2\u001B[0m\u001B[0;34m]\u001B[0m \u001B[0;32mfor\u001B[0m \u001B[0mrec\u001B[0m \u001B[0;32min\u001B[0m \u001B[0mrecords\u001B[0m\u001B[0;34m]\u001B[0m\u001B[0;34m\u001B[0m\u001B[0;34m\u001B[0m\u001B[0m\n\u001B[1;32m   1082\u001B[0m \u001B[0;34m\u001B[0m\u001B[0m\n\u001B[0;32m-> 1083\u001B[0;31m             \u001B[0mc\u001B[0m \u001B[0;34m=\u001B[0m \u001B[0mcached_connections\u001B[0m\u001B[0;34m[\u001B[0m\u001B[0mconnection\u001B[0m\u001B[0;34m]\u001B[0m\u001B[0;34m.\u001B[0m\u001B[0mexecute\u001B[0m\u001B[0;34m(\u001B[0m\u001B[0mstatement\u001B[0m\u001B[0;34m,\u001B[0m \u001B[0mmultiparams\u001B[0m\u001B[0;34m)\u001B[0m\u001B[0;34m\u001B[0m\u001B[0;34m\u001B[0m\u001B[0m\n\u001B[0m\u001B[1;32m   1084\u001B[0m             \u001B[0;32mif\u001B[0m \u001B[0mbookkeeping\u001B[0m\u001B[0;34m:\u001B[0m\u001B[0;34m\u001B[0m\u001B[0;34m\u001B[0m\u001B[0m\n\u001B[1;32m   1085\u001B[0m                 for (\n",
      "\u001B[0;32m~/PycharmProjects/telegram/flight_bot/venv/lib/python3.9/site-packages/sqlalchemy/engine/base.py\u001B[0m in \u001B[0;36mexecute\u001B[0;34m(self, object_, *multiparams, **params)\u001B[0m\n\u001B[1;32m   1009\u001B[0m             )\n\u001B[1;32m   1010\u001B[0m         \u001B[0;32melse\u001B[0m\u001B[0;34m:\u001B[0m\u001B[0;34m\u001B[0m\u001B[0;34m\u001B[0m\u001B[0m\n\u001B[0;32m-> 1011\u001B[0;31m             \u001B[0;32mreturn\u001B[0m \u001B[0mmeth\u001B[0m\u001B[0;34m(\u001B[0m\u001B[0mself\u001B[0m\u001B[0;34m,\u001B[0m \u001B[0mmultiparams\u001B[0m\u001B[0;34m,\u001B[0m \u001B[0mparams\u001B[0m\u001B[0;34m)\u001B[0m\u001B[0;34m\u001B[0m\u001B[0;34m\u001B[0m\u001B[0m\n\u001B[0m\u001B[1;32m   1012\u001B[0m \u001B[0;34m\u001B[0m\u001B[0m\n\u001B[1;32m   1013\u001B[0m     \u001B[0;32mdef\u001B[0m \u001B[0m_execute_function\u001B[0m\u001B[0;34m(\u001B[0m\u001B[0mself\u001B[0m\u001B[0;34m,\u001B[0m \u001B[0mfunc\u001B[0m\u001B[0;34m,\u001B[0m \u001B[0mmultiparams\u001B[0m\u001B[0;34m,\u001B[0m \u001B[0mparams\u001B[0m\u001B[0;34m)\u001B[0m\u001B[0;34m:\u001B[0m\u001B[0;34m\u001B[0m\u001B[0;34m\u001B[0m\u001B[0m\n",
      "\u001B[0;32m~/PycharmProjects/telegram/flight_bot/venv/lib/python3.9/site-packages/sqlalchemy/sql/elements.py\u001B[0m in \u001B[0;36m_execute_on_connection\u001B[0;34m(self, connection, multiparams, params)\u001B[0m\n\u001B[1;32m    296\u001B[0m     \u001B[0;32mdef\u001B[0m \u001B[0m_execute_on_connection\u001B[0m\u001B[0;34m(\u001B[0m\u001B[0mself\u001B[0m\u001B[0;34m,\u001B[0m \u001B[0mconnection\u001B[0m\u001B[0;34m,\u001B[0m \u001B[0mmultiparams\u001B[0m\u001B[0;34m,\u001B[0m \u001B[0mparams\u001B[0m\u001B[0;34m)\u001B[0m\u001B[0;34m:\u001B[0m\u001B[0;34m\u001B[0m\u001B[0;34m\u001B[0m\u001B[0m\n\u001B[1;32m    297\u001B[0m         \u001B[0;32mif\u001B[0m \u001B[0mself\u001B[0m\u001B[0;34m.\u001B[0m\u001B[0msupports_execution\u001B[0m\u001B[0;34m:\u001B[0m\u001B[0;34m\u001B[0m\u001B[0;34m\u001B[0m\u001B[0m\n\u001B[0;32m--> 298\u001B[0;31m             \u001B[0;32mreturn\u001B[0m \u001B[0mconnection\u001B[0m\u001B[0;34m.\u001B[0m\u001B[0m_execute_clauseelement\u001B[0m\u001B[0;34m(\u001B[0m\u001B[0mself\u001B[0m\u001B[0;34m,\u001B[0m \u001B[0mmultiparams\u001B[0m\u001B[0;34m,\u001B[0m \u001B[0mparams\u001B[0m\u001B[0;34m)\u001B[0m\u001B[0;34m\u001B[0m\u001B[0;34m\u001B[0m\u001B[0m\n\u001B[0m\u001B[1;32m    299\u001B[0m         \u001B[0;32melse\u001B[0m\u001B[0;34m:\u001B[0m\u001B[0;34m\u001B[0m\u001B[0;34m\u001B[0m\u001B[0m\n\u001B[1;32m    300\u001B[0m             \u001B[0;32mraise\u001B[0m \u001B[0mexc\u001B[0m\u001B[0;34m.\u001B[0m\u001B[0mObjectNotExecutableError\u001B[0m\u001B[0;34m(\u001B[0m\u001B[0mself\u001B[0m\u001B[0;34m)\u001B[0m\u001B[0;34m\u001B[0m\u001B[0;34m\u001B[0m\u001B[0m\n",
      "\u001B[0;32m~/PycharmProjects/telegram/flight_bot/venv/lib/python3.9/site-packages/sqlalchemy/engine/base.py\u001B[0m in \u001B[0;36m_execute_clauseelement\u001B[0;34m(self, elem, multiparams, params)\u001B[0m\n\u001B[1;32m   1122\u001B[0m             )\n\u001B[1;32m   1123\u001B[0m \u001B[0;34m\u001B[0m\u001B[0m\n\u001B[0;32m-> 1124\u001B[0;31m         ret = self._execute_context(\n\u001B[0m\u001B[1;32m   1125\u001B[0m             \u001B[0mdialect\u001B[0m\u001B[0;34m,\u001B[0m\u001B[0;34m\u001B[0m\u001B[0;34m\u001B[0m\u001B[0m\n\u001B[1;32m   1126\u001B[0m             \u001B[0mdialect\u001B[0m\u001B[0;34m.\u001B[0m\u001B[0mexecution_ctx_cls\u001B[0m\u001B[0;34m.\u001B[0m\u001B[0m_init_compiled\u001B[0m\u001B[0;34m,\u001B[0m\u001B[0;34m\u001B[0m\u001B[0;34m\u001B[0m\u001B[0m\n",
      "\u001B[0;32m~/PycharmProjects/telegram/flight_bot/venv/lib/python3.9/site-packages/sqlalchemy/engine/base.py\u001B[0m in \u001B[0;36m_execute_context\u001B[0;34m(self, dialect, constructor, statement, parameters, *args)\u001B[0m\n\u001B[1;32m   1314\u001B[0m \u001B[0;34m\u001B[0m\u001B[0m\n\u001B[1;32m   1315\u001B[0m         \u001B[0;32mexcept\u001B[0m \u001B[0mBaseException\u001B[0m \u001B[0;32mas\u001B[0m \u001B[0me\u001B[0m\u001B[0;34m:\u001B[0m\u001B[0;34m\u001B[0m\u001B[0;34m\u001B[0m\u001B[0m\n\u001B[0;32m-> 1316\u001B[0;31m             self._handle_dbapi_exception(\n\u001B[0m\u001B[1;32m   1317\u001B[0m                 \u001B[0me\u001B[0m\u001B[0;34m,\u001B[0m \u001B[0mstatement\u001B[0m\u001B[0;34m,\u001B[0m \u001B[0mparameters\u001B[0m\u001B[0;34m,\u001B[0m \u001B[0mcursor\u001B[0m\u001B[0;34m,\u001B[0m \u001B[0mcontext\u001B[0m\u001B[0;34m\u001B[0m\u001B[0;34m\u001B[0m\u001B[0m\n\u001B[1;32m   1318\u001B[0m             )\n",
      "\u001B[0;32m~/PycharmProjects/telegram/flight_bot/venv/lib/python3.9/site-packages/sqlalchemy/engine/base.py\u001B[0m in \u001B[0;36m_handle_dbapi_exception\u001B[0;34m(self, e, statement, parameters, cursor, context)\u001B[0m\n\u001B[1;32m   1508\u001B[0m                 \u001B[0mutil\u001B[0m\u001B[0;34m.\u001B[0m\u001B[0mraise_\u001B[0m\u001B[0;34m(\u001B[0m\u001B[0mnewraise\u001B[0m\u001B[0;34m,\u001B[0m \u001B[0mwith_traceback\u001B[0m\u001B[0;34m=\u001B[0m\u001B[0mexc_info\u001B[0m\u001B[0;34m[\u001B[0m\u001B[0;36m2\u001B[0m\u001B[0;34m]\u001B[0m\u001B[0;34m,\u001B[0m \u001B[0mfrom_\u001B[0m\u001B[0;34m=\u001B[0m\u001B[0me\u001B[0m\u001B[0;34m)\u001B[0m\u001B[0;34m\u001B[0m\u001B[0;34m\u001B[0m\u001B[0m\n\u001B[1;32m   1509\u001B[0m             \u001B[0;32melif\u001B[0m \u001B[0mshould_wrap\u001B[0m\u001B[0;34m:\u001B[0m\u001B[0;34m\u001B[0m\u001B[0;34m\u001B[0m\u001B[0m\n\u001B[0;32m-> 1510\u001B[0;31m                 util.raise_(\n\u001B[0m\u001B[1;32m   1511\u001B[0m                     \u001B[0msqlalchemy_exception\u001B[0m\u001B[0;34m,\u001B[0m \u001B[0mwith_traceback\u001B[0m\u001B[0;34m=\u001B[0m\u001B[0mexc_info\u001B[0m\u001B[0;34m[\u001B[0m\u001B[0;36m2\u001B[0m\u001B[0;34m]\u001B[0m\u001B[0;34m,\u001B[0m \u001B[0mfrom_\u001B[0m\u001B[0;34m=\u001B[0m\u001B[0me\u001B[0m\u001B[0;34m\u001B[0m\u001B[0;34m\u001B[0m\u001B[0m\n\u001B[1;32m   1512\u001B[0m                 )\n",
      "\u001B[0;32m~/PycharmProjects/telegram/flight_bot/venv/lib/python3.9/site-packages/sqlalchemy/util/compat.py\u001B[0m in \u001B[0;36mraise_\u001B[0;34m(***failed resolving arguments***)\u001B[0m\n\u001B[1;32m    180\u001B[0m \u001B[0;34m\u001B[0m\u001B[0m\n\u001B[1;32m    181\u001B[0m         \u001B[0;32mtry\u001B[0m\u001B[0;34m:\u001B[0m\u001B[0;34m\u001B[0m\u001B[0;34m\u001B[0m\u001B[0m\n\u001B[0;32m--> 182\u001B[0;31m             \u001B[0;32mraise\u001B[0m \u001B[0mexception\u001B[0m\u001B[0;34m\u001B[0m\u001B[0;34m\u001B[0m\u001B[0m\n\u001B[0m\u001B[1;32m    183\u001B[0m         \u001B[0;32mfinally\u001B[0m\u001B[0;34m:\u001B[0m\u001B[0;34m\u001B[0m\u001B[0;34m\u001B[0m\u001B[0m\n\u001B[1;32m    184\u001B[0m             \u001B[0;31m# credit to\u001B[0m\u001B[0;34m\u001B[0m\u001B[0;34m\u001B[0m\u001B[0;34m\u001B[0m\u001B[0m\n",
      "\u001B[0;32m~/PycharmProjects/telegram/flight_bot/venv/lib/python3.9/site-packages/sqlalchemy/engine/base.py\u001B[0m in \u001B[0;36m_execute_context\u001B[0;34m(self, dialect, constructor, statement, parameters, *args)\u001B[0m\n\u001B[1;32m   1254\u001B[0m                             \u001B[0;32mbreak\u001B[0m\u001B[0;34m\u001B[0m\u001B[0;34m\u001B[0m\u001B[0m\n\u001B[1;32m   1255\u001B[0m                 \u001B[0;32mif\u001B[0m \u001B[0;32mnot\u001B[0m \u001B[0mevt_handled\u001B[0m\u001B[0;34m:\u001B[0m\u001B[0;34m\u001B[0m\u001B[0;34m\u001B[0m\u001B[0m\n\u001B[0;32m-> 1256\u001B[0;31m                     self.dialect.do_executemany(\n\u001B[0m\u001B[1;32m   1257\u001B[0m                         \u001B[0mcursor\u001B[0m\u001B[0;34m,\u001B[0m \u001B[0mstatement\u001B[0m\u001B[0;34m,\u001B[0m \u001B[0mparameters\u001B[0m\u001B[0;34m,\u001B[0m \u001B[0mcontext\u001B[0m\u001B[0;34m\u001B[0m\u001B[0;34m\u001B[0m\u001B[0m\n\u001B[1;32m   1258\u001B[0m                     )\n",
      "\u001B[0;32m~/PycharmProjects/telegram/flight_bot/venv/lib/python3.9/site-packages/sqlalchemy/dialects/postgresql/psycopg2.py\u001B[0m in \u001B[0;36mdo_executemany\u001B[0;34m(self, cursor, statement, parameters, context)\u001B[0m\n\u001B[1;32m    896\u001B[0m     \u001B[0;32mdef\u001B[0m \u001B[0mdo_executemany\u001B[0m\u001B[0;34m(\u001B[0m\u001B[0mself\u001B[0m\u001B[0;34m,\u001B[0m \u001B[0mcursor\u001B[0m\u001B[0;34m,\u001B[0m \u001B[0mstatement\u001B[0m\u001B[0;34m,\u001B[0m \u001B[0mparameters\u001B[0m\u001B[0;34m,\u001B[0m \u001B[0mcontext\u001B[0m\u001B[0;34m=\u001B[0m\u001B[0;32mNone\u001B[0m\u001B[0;34m)\u001B[0m\u001B[0;34m:\u001B[0m\u001B[0;34m\u001B[0m\u001B[0;34m\u001B[0m\u001B[0m\n\u001B[1;32m    897\u001B[0m         \u001B[0;32mif\u001B[0m \u001B[0mself\u001B[0m\u001B[0;34m.\u001B[0m\u001B[0mexecutemany_mode\u001B[0m \u001B[0;32mis\u001B[0m \u001B[0mEXECUTEMANY_DEFAULT\u001B[0m\u001B[0;34m:\u001B[0m\u001B[0;34m\u001B[0m\u001B[0;34m\u001B[0m\u001B[0m\n\u001B[0;32m--> 898\u001B[0;31m             \u001B[0mcursor\u001B[0m\u001B[0;34m.\u001B[0m\u001B[0mexecutemany\u001B[0m\u001B[0;34m(\u001B[0m\u001B[0mstatement\u001B[0m\u001B[0;34m,\u001B[0m \u001B[0mparameters\u001B[0m\u001B[0;34m)\u001B[0m\u001B[0;34m\u001B[0m\u001B[0;34m\u001B[0m\u001B[0m\n\u001B[0m\u001B[1;32m    899\u001B[0m             \u001B[0;32mreturn\u001B[0m\u001B[0;34m\u001B[0m\u001B[0;34m\u001B[0m\u001B[0m\n\u001B[1;32m    900\u001B[0m \u001B[0;34m\u001B[0m\u001B[0m\n",
      "\u001B[0;31mOperationalError\u001B[0m: (psycopg2.OperationalError) server closed the connection unexpectedly\n\tThis probably means the server terminated abnormally\n\tbefore or while processing the request.\n\n[SQL: INSERT INTO airports (created_at, updated_at, airport_name, airport_code, city_country) VALUES (%(created_at)s, %(updated_at)s, %(airport_name)s, %(airport_code)s, %(city_country)s)]\n[parameters: ({'created_at': datetime.datetime(2021, 1, 12, 21, 10, 20, 212727), 'updated_at': datetime.datetime(2021, 1, 12, 21, 10, 20, 212842), 'airport_name': 'Anaa Airport', 'airport_code': 'AAA', 'city_country': 'French Polynesia'}, {'created_at': datetime.datetime(2021, 1, 12, 21, 10, 20, 212727), 'updated_at': datetime.datetime(2021, 1, 12, 21, 10, 20, 212842), 'airport_name': 'Arrabury Airport', 'airport_code': 'AAB', 'city_country': 'Australia'}, {'created_at': datetime.datetime(2021, 1, 12, 21, 10, 20, 212727), 'updated_at': datetime.datetime(2021, 1, 12, 21, 10, 20, 212842), 'airport_name': 'El Arish International Airport', 'airport_code': 'AAC', 'city_country': 'El Arish, Egypt'}, {'created_at': datetime.datetime(2021, 1, 12, 21, 10, 20, 212727), 'updated_at': datetime.datetime(2021, 1, 12, 21, 10, 20, 212842), 'airport_name': 'Ad-Dabbah Airport', 'airport_code': 'AAD', 'city_country': 'Ad-Dabbah, Sudan'}, {'created_at': datetime.datetime(2021, 1, 12, 21, 10, 20, 212727), 'updated_at': datetime.datetime(2021, 1, 12, 21, 10, 20, 212842), 'airport_name': 'Annaba Airport', 'airport_code': 'AAE', 'city_country': 'Annabah, Algeria'}, {'created_at': datetime.datetime(2021, 1, 12, 21, 10, 20, 212727), 'updated_at': datetime.datetime(2021, 1, 12, 21, 10, 20, 212842), 'airport_name': 'Apalachicola Regional Airport', 'airport_code': 'AAF', 'city_country': 'Apalachicola, United States'}, {'created_at': datetime.datetime(2021, 1, 12, 21, 10, 20, 212727), 'updated_at': datetime.datetime(2021, 1, 12, 21, 10, 20, 212842), 'airport_name': 'Arapoti Airport', 'airport_code': 'AAG', 'city_country': 'Arapoti, Brazil'}, {'created_at': datetime.datetime(2021, 1, 12, 21, 10, 20, 212727), 'updated_at': datetime.datetime(2021, 1, 12, 21, 10, 20, 212842), 'airport_name': 'Aachen-Merzbrück Airport', 'airport_code': 'AAH', 'city_country': 'Aachen, Germany'}  ... displaying 10 of 9465 total bound parameter sets ...  {'created_at': datetime.datetime(2021, 1, 12, 21, 10, 20, 212727), 'updated_at': datetime.datetime(2021, 1, 12, 21, 10, 20, 212842), 'airport_name': 'Mzuzu Airport', 'airport_code': 'ZZU', 'city_country': 'Mzuzu, Malawi'}, {'created_at': datetime.datetime(2021, 1, 12, 21, 10, 20, 212727), 'updated_at': datetime.datetime(2021, 1, 12, 21, 10, 20, 212842), 'airport_name': 'Zanesville Municipal Airport', 'airport_code': 'ZZV', 'city_country': 'Zanesville, United States'})]\n(Background on this error at: http://sqlalche.me/e/13/e3q8)"
     ]
    }
   ],
   "source": [
    "session.bulk_save_objects(airportslist)\n",
    "session.commit()"
   ],
   "metadata": {
    "collapsed": false,
    "pycharm": {
     "name": "#%%\n"
    }
   }
  },
  {
   "cell_type": "code",
   "execution_count": null,
   "outputs": [],
   "source": [],
   "metadata": {
    "collapsed": false,
    "pycharm": {
     "name": "#%%\n"
    }
   }
  }
 ],
 "metadata": {
  "kernelspec": {
   "display_name": "Python 3",
   "language": "python",
   "name": "python3"
  },
  "language_info": {
   "codemirror_mode": {
    "name": "ipython",
    "version": 2
   },
   "file_extension": ".py",
   "mimetype": "text/x-python",
   "name": "python",
   "nbconvert_exporter": "python",
   "pygments_lexer": "ipython2",
   "version": "2.7.6"
  }
 },
 "nbformat": 4,
 "nbformat_minor": 0
}